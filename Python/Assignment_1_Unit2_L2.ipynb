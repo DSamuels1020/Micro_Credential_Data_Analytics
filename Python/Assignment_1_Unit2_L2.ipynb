{
  "nbformat": 4,
  "nbformat_minor": 0,
  "metadata": {
    "colab": {
      "name": "Assignment 1  Unit2_L2.ipynb",
      "provenance": [],
      "collapsed_sections": []
    },
    "kernelspec": {
      "name": "python3",
      "display_name": "Python 3"
    },
    "language_info": {
      "name": "python"
    }
  },
  "cells": [
    {
      "cell_type": "markdown",
      "source": [
        "Name: Damion Samuels           \n",
        "Python for Data Analytics"
      ],
      "metadata": {
        "id": "sm0FNZmdSBm3"
      }
    },
    {
      "cell_type": "markdown",
      "source": [
        "1.\tWhat is Python and why is it useful? <br><br>\n",
        "   •\tPython is useful because it can work on very, very large datasets – with ease! It makes analyzing data – from a few thousand rows to a few million rows very easy.<br>\n",
        "•\tIt can perform complex operations – from machine learning, to web development.<br>\n",
        "•\tPython’s code can be saved and re-run – making processes automated and a huge time saver.\n"
      ],
      "metadata": {
        "id": "wFfGFHsbSPN7"
      }
    },
    {
      "cell_type": "markdown",
      "source": [
        "2.\tAre the following variable names allowed in python?   <br>\n",
        "  a.\t1_message\n",
        "   <br> b.\tGreeting_message\n",
        "  <br>   c.\tMessage_1\n",
        "  <br>  d.\tFirst name\n",
        "  <br>  e.\tFull_name\n",
        "  <br><br> ans:: A and D are NOT allowed as A starts with a number and D has a space in the name.\n"
      ],
      "metadata": {
        "id": "yF2l-hObSyfX"
      }
    },
    {
      "cell_type": "markdown",
      "source": [
        "3.\tCreate a variable that holds the string “hello there!”"
      ],
      "metadata": {
        "id": "n5R1IyXpT6q_"
      }
    },
    {
      "cell_type": "code",
      "source": [
        "# Code here\n",
        "message = \"Hello there!\""
      ],
      "metadata": {
        "id": "ssp0FlOUUIJx",
        "colab": {
          "base_uri": "https://localhost:8080/"
        },
        "outputId": "b64daeda-c023-4735-a91f-6a8588be0ee4"
      },
      "execution_count": null,
      "outputs": [
        {
          "output_type": "stream",
          "name": "stdout",
          "text": [
            "Hello there!\n"
          ]
        }
      ]
    },
    {
      "cell_type": "markdown",
      "source": [
        "4.\tCreate a variable for first name, last name and an email extension.  Concatenating all three together to form an email address.  For example: firstnamelastname@gmail.com"
      ],
      "metadata": {
        "id": "ZyvqE9QgUBn5"
      }
    },
    {
      "cell_type": "code",
      "source": [
        "# Code here\n",
        "first_name = \"Michael\"\n",
        "last_name = \"Scott\"\n",
        "email = \"@gmail.com\"\n",
        "print(first_name + last_name + email)"
      ],
      "metadata": {
        "id": "kzt17MYuT57a",
        "colab": {
          "base_uri": "https://localhost:8080/"
        },
        "outputId": "bb31c9f4-eb89-44e1-8b0e-c444d14c7853"
      },
      "execution_count": null,
      "outputs": [
        {
          "output_type": "stream",
          "name": "stdout",
          "text": [
            "MichaelScott@gmail.com\n"
          ]
        }
      ]
    },
    {
      "cell_type": "markdown",
      "source": [
        "5.\tStore someone you know name in a variable called name.  Print their name in lower and uppercase using a method."
      ],
      "metadata": {
        "id": "UCutpCnqUMYm"
      }
    },
    {
      "cell_type": "code",
      "source": [
        "# Code Here\n",
        "name = \"Mark Walters\"\n",
        "print(name.lower())\n",
        "print(name.upper())"
      ],
      "metadata": {
        "id": "hNucMVu1VTF7",
        "colab": {
          "base_uri": "https://localhost:8080/"
        },
        "outputId": "e4ead844-cc6e-422a-9f2b-2976d60104c6"
      },
      "execution_count": null,
      "outputs": [
        {
          "output_type": "stream",
          "name": "stdout",
          "text": [
            "mark walters\n",
            "MARK WALTERS\n"
          ]
        }
      ]
    },
    {
      "cell_type": "markdown",
      "source": [
        "6.\tUsing a variable, ask your friend if they want to hang out on the 15th of the month. <br> For example, “Do you want to hang out on the 15th of this month?”  You should have to convert the number to a string."
      ],
      "metadata": {
        "id": "cIBewzBCU0oM"
      }
    },
    {
      "cell_type": "code",
      "source": [
        "# Code here\n",
        "day = 15\n",
        "print(\"Do you want to hang out on the \" + str(day) + \"th of this month?\")"
      ],
      "metadata": {
        "id": "yJ0qXnIdVPp-",
        "colab": {
          "base_uri": "https://localhost:8080/"
        },
        "outputId": "727a685e-bcd5-4e20-e354-31188443527f"
      },
      "execution_count": null,
      "outputs": [
        {
          "output_type": "stream",
          "name": "stdout",
          "text": [
            "Do you want to hang out on the 15th of this month?\n"
          ]
        }
      ]
    }
  ]
}