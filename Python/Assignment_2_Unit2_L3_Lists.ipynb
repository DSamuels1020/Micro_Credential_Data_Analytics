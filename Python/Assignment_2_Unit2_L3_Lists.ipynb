{
  "nbformat": 4,
  "nbformat_minor": 0,
  "metadata": {
    "colab": {
      "name": "Assignment 2 Unit2_L3_Lists.ipynb",
      "provenance": [],
      "collapsed_sections": []
    },
    "kernelspec": {
      "name": "python3",
      "display_name": "Python 3"
    },
    "language_info": {
      "name": "python"
    }
  },
  "cells": [
    {
      "cell_type": "markdown",
      "source": [
        "Name: Damion Samuels. -----------\n",
        "Lesson 3 - Working with Lists"
      ],
      "metadata": {
        "id": "6uQ6kPgwXhG7"
      }
    },
    {
      "cell_type": "markdown",
      "source": [
        "1.\tCreate a list of 5 of your favorite tv shows.  "
      ],
      "metadata": {
        "id": "xx-bohjZZGQ3"
      }
    },
    {
      "cell_type": "code",
      "source": [
        "fav_shows=['Cobra Kai', 'The Witcher', 'Peacemaker', 'Money Heist', 'Attack on Titan']"
      ],
      "metadata": {
        "id": "cvA6M-8bZIeW"
      },
      "execution_count": null,
      "outputs": []
    },
    {
      "cell_type": "markdown",
      "source": [
        "2.\tPrint the list in its original order."
      ],
      "metadata": {
        "id": "3Nl_0BUQZLgW"
      }
    },
    {
      "cell_type": "code",
      "execution_count": null,
      "metadata": {
        "id": "cyRW3vszWNWy",
        "colab": {
          "base_uri": "https://localhost:8080/"
        },
        "outputId": "304fc86f-fdd3-421f-b5d1-77505af93344"
      },
      "outputs": [
        {
          "output_type": "stream",
          "name": "stdout",
          "text": [
            "['Cobra Kai', 'The Witcher', 'Peacemaker', 'Money Heist', 'Attack on Titan']\n"
          ]
        }
      ],
      "source": [
        "print(fav_shows)"
      ]
    },
    {
      "cell_type": "markdown",
      "source": [
        "3.\tUse the sorted() function to print the list in alphabetical order.  How is sorted() different from sort()?"
      ],
      "metadata": {
        "id": "i_SXy9SMZQrZ"
      }
    },
    {
      "cell_type": "code",
      "source": [
        "print(sorted(fav_shows))"
      ],
      "metadata": {
        "id": "97Tiq_6tZkJv",
        "colab": {
          "base_uri": "https://localhost:8080/"
        },
        "outputId": "8d7f1a47-96a0-4118-ee4a-b84496fb3dad"
      },
      "execution_count": null,
      "outputs": [
        {
          "output_type": "stream",
          "name": "stdout",
          "text": [
            "['Attack on Titan', 'Cobra Kai', 'Money Heist', 'Peacemaker', 'The Witcher']\n"
          ]
        }
      ]
    },
    {
      "cell_type": "markdown",
      "source": [
        "***The difference:*** <br>\n",
        "\n",
        "The sorted() function stores items temporarily meaning it sorts a new list. <br>\n",
        "However, the sort() function could maintain it in memory and can recall the same list whenever necessary."
      ],
      "metadata": {
        "id": "yVe4GW5vZtuu"
      }
    },
    {
      "cell_type": "markdown",
      "source": [
        "4.\tPrint out your original list."
      ],
      "metadata": {
        "id": "OXD_0qk5Z_zh"
      }
    },
    {
      "cell_type": "code",
      "source": [
        "print(fav_shows)"
      ],
      "metadata": {
        "id": "g1k1VVMsaBwe",
        "colab": {
          "base_uri": "https://localhost:8080/"
        },
        "outputId": "5981f860-28d4-456c-bb86-506c9e3d2b48"
      },
      "execution_count": null,
      "outputs": [
        {
          "output_type": "stream",
          "name": "stdout",
          "text": [
            "['Cobra Kai', 'The Witcher', 'Peacemaker', 'Money Heist', 'Attack on Titan']\n"
          ]
        }
      ]
    },
    {
      "cell_type": "markdown",
      "source": [
        "5.\tUsed sorted() to print your list in reverse alphabetical order."
      ],
      "metadata": {
        "id": "0naBUi3aqyTE"
      }
    },
    {
      "cell_type": "code",
      "source": [
        "print(sorted(fav_shows,reverse= True))"
      ],
      "metadata": {
        "id": "zqZ_Osebq1rl",
        "colab": {
          "base_uri": "https://localhost:8080/"
        },
        "outputId": "c2c9e207-aaf2-4475-befc-e872c3e3865e"
      },
      "execution_count": null,
      "outputs": [
        {
          "output_type": "stream",
          "name": "stdout",
          "text": [
            "['The Witcher', 'Peacemaker', 'Money Heist', 'Cobra Kai', 'Attack on Titan']\n"
          ]
        }
      ]
    },
    {
      "cell_type": "markdown",
      "source": [
        "6.\tCreate a message indicating how many favorite TV shows you have – use the len() function."
      ],
      "metadata": {
        "id": "Lvr-pB86svpj"
      }
    },
    {
      "cell_type": "code",
      "source": [
        "print(\"The number of favorite TV shows I have is:\", len(fav_shows))"
      ],
      "metadata": {
        "id": "zpiyLyVgsyuq",
        "colab": {
          "base_uri": "https://localhost:8080/"
        },
        "outputId": "876b4565-4d96-41bb-825b-e030d60b6727"
      },
      "execution_count": null,
      "outputs": [
        {
          "output_type": "stream",
          "name": "stdout",
          "text": [
            "The number of favorite TV shows I have is: 5\n"
          ]
        }
      ]
    }
  ]
}