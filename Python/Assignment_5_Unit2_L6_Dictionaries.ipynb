{
  "nbformat": 4,
  "nbformat_minor": 0,
  "metadata": {
    "colab": {
      "name": "Assignment 5  Unit2_L6_Dictionaries.ipynb",
      "provenance": [],
      "collapsed_sections": []
    },
    "kernelspec": {
      "name": "python3",
      "display_name": "Python 3"
    },
    "language_info": {
      "name": "python"
    }
  },
  "cells": [
    {
      "cell_type": "markdown",
      "source": [
        "Name: Damion Samuels --------\n",
        "Lesson: Unit 2 – Python Dictionaries \n"
      ],
      "metadata": {
        "id": "XY7xHAdxvnCh"
      }
    },
    {
      "cell_type": "markdown",
      "source": [
        "1.\tCreate a simple dictionary that stores 2 variables, for example: first and last name."
      ],
      "metadata": {
        "id": "kb8zKZcBwQdC"
      }
    },
    {
      "cell_type": "code",
      "execution_count": null,
      "metadata": {
        "id": "VOoBvjbovg3o"
      },
      "outputs": [],
      "source": [
        "full_name={'first_name':'Damion', 'last_name':'Samuels'}"
      ]
    },
    {
      "cell_type": "markdown",
      "source": [
        "2.\tPrint out those variables stored in your previous dictionary. "
      ],
      "metadata": {
        "id": "4x4wB1sMwTZj"
      }
    },
    {
      "cell_type": "code",
      "source": [
        "print(full_name)"
      ],
      "metadata": {
        "id": "Qf2Zt_udweNJ",
        "colab": {
          "base_uri": "https://localhost:8080/"
        },
        "outputId": "d65c7102-9e14-4e8c-e353-d75d2544c1ab"
      },
      "execution_count": null,
      "outputs": [
        {
          "output_type": "stream",
          "name": "stdout",
          "text": [
            "{'first_name': 'Damion', 'last_name': 'Samuels'}\n"
          ]
        }
      ]
    },
    {
      "cell_type": "markdown",
      "source": [
        "3.\tAdd a message to those variables on printing: for example: “Hello, firstname lastname!”"
      ],
      "metadata": {
        "id": "5Uz7bnnAwUVk"
      }
    },
    {
      "cell_type": "code",
      "source": [
        "print('Hello '+ full_name['first_name'], full_name['last_name'])"
      ],
      "metadata": {
        "id": "DYJIAHUUwd79",
        "colab": {
          "base_uri": "https://localhost:8080/"
        },
        "outputId": "c21ac59c-8d14-4ea1-e7a4-85dc3f49b6cd"
      },
      "execution_count": null,
      "outputs": [
        {
          "output_type": "stream",
          "name": "stdout",
          "text": [
            "Hello Damion Samuels\n"
          ]
        }
      ]
    },
    {
      "cell_type": "markdown",
      "source": [
        "4.\tCreate a dictionary that holds 2 key: value pairs:\n",
        "a.\tLook through your dictionary and print each pair,\n"
      ],
      "metadata": {
        "id": "Oib7Pa-rwYj7"
      }
    },
    {
      "cell_type": "code",
      "source": [
        "US_Names={'City':'Chicago','State':'Illinois'}\n",
        "for key, value in US_Names.items():\n",
        "  print(key+': '+value)"
      ],
      "metadata": {
        "id": "VPNJYlD0wdle",
        "colab": {
          "base_uri": "https://localhost:8080/"
        },
        "outputId": "6cb5e5ba-cc75-4ef7-c4f1-b0306d8096b5"
      },
      "execution_count": null,
      "outputs": [
        {
          "output_type": "stream",
          "name": "stdout",
          "text": [
            "City: Chicago\n",
            "State: Illinois\n"
          ]
        }
      ]
    },
    {
      "cell_type": "markdown",
      "source": [
        "5.\tCreate a nested dictionary containing three dictionaries – these dictionaries could be anything (favorite pets, travel locations, etc.)\n",
        "a.\tLoop through the dictionaries and print a message for each.\n"
      ],
      "metadata": {
        "id": "ttb4g8jGwZ_5"
      }
    },
    {
      "cell_type": "code",
      "source": [
        "# You said we should skip this question and not to do it! We did not cover it in class yet."
      ],
      "metadata": {
        "id": "poqQFB22wc_R"
      },
      "execution_count": null,
      "outputs": []
    }
  ]
}