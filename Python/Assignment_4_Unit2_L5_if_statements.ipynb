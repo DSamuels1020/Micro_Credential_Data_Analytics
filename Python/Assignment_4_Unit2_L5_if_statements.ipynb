{
  "nbformat": 4,
  "nbformat_minor": 0,
  "metadata": {
    "colab": {
      "name": "Assignment 4  Unit2_L5_if statements.ipynb",
      "provenance": [],
      "collapsed_sections": []
    },
    "kernelspec": {
      "name": "python3",
      "display_name": "Python 3"
    },
    "language_info": {
      "name": "python"
    }
  },
  "cells": [
    {
      "cell_type": "markdown",
      "source": [
        "Name: Damion Samuels ----------\n",
        "Lesson 5 -- If-elif-else Statements \n"
      ],
      "metadata": {
        "id": "yDkkWfCzue5o"
      }
    },
    {
      "cell_type": "markdown",
      "source": [
        "1.\tMake a list of 5 or more usernames, including an admin account.  Imagine you are writing code that will welcome people to your application on login. Loop through the list and print your greeting.\n",
        "a.\tIf the admin account logs in, give them a special greeting.  They’re the admin, after all!\n",
        "b.\tOther users can get the generic greeting\n"
      ],
      "metadata": {
        "id": "LvfYq1tvu0LL"
      }
    },
    {
      "cell_type": "code",
      "execution_count": null,
      "metadata": {
        "id": "H_7uqXMuuDdQ",
        "colab": {
          "base_uri": "https://localhost:8080/"
        },
        "outputId": "9c35de70-dbfd-4776-aa0d-7086fff048d4"
      },
      "outputs": [
        {
          "output_type": "stream",
          "name": "stdout",
          "text": [
            "Welcome back Emperor512, you have logged in!\n",
            "\n",
            "Welcome back Admin, you have full access to the system console!\n",
            "\n",
            "Welcome back Babydriver, you have logged in!\n",
            "\n",
            "Welcome back Drake1102, you have logged in!\n",
            "\n",
            "Welcome back Sharon777, you have logged in!\n",
            "\n"
          ]
        }
      ],
      "source": [
        "user_list=['Emperor512','admin','babydriver','drake1102','Sharon777']\n",
        "for x in user_list:\n",
        "  if x == 'admin':\n",
        "    print('Welcome back '+str(x.title())+', you have full access to the system console!\\n')\n",
        "  else:\n",
        "    print('Welcome back '+str(x.title())+', you have logged in!\\n')"
      ]
    },
    {
      "cell_type": "markdown",
      "source": [
        "2.\tStore numbers 1-10 in a list\n",
        "a.\tLoop through the list\n",
        "b.\tUse an if-elif-else chain inside your loop to print the ordinal ending for each number – for example – 1st, 2nd, 3rd … etc.\n"
      ],
      "metadata": {
        "id": "AE3Ps4aBu8Nv"
      }
    },
    {
      "cell_type": "code",
      "source": [
        "num_list=[1,2,3,4,5,6,7,8,9,10]\n",
        "print(num_list)"
      ],
      "metadata": {
        "id": "L5ojjwNQvJxo",
        "colab": {
          "base_uri": "https://localhost:8080/"
        },
        "outputId": "40df05fe-7c66-454b-fb26-726b5b7efe3d"
      },
      "execution_count": null,
      "outputs": [
        {
          "output_type": "stream",
          "name": "stdout",
          "text": [
            "[1, 2, 3, 4, 5, 6, 7, 8, 9, 10]\n"
          ]
        }
      ]
    },
    {
      "cell_type": "code",
      "source": [
        "# Part A - Looping Through the list\n",
        "for num in num_list:\n",
        "  print(num)"
      ],
      "metadata": {
        "colab": {
          "base_uri": "https://localhost:8080/"
        },
        "id": "dSxYLaRYuAV0",
        "outputId": "3eccb684-c8b5-4657-b47b-76a661fe5aa8"
      },
      "execution_count": null,
      "outputs": [
        {
          "output_type": "stream",
          "name": "stdout",
          "text": [
            "1\n",
            "2\n",
            "3\n",
            "4\n",
            "5\n",
            "6\n",
            "7\n",
            "8\n",
            "9\n",
            "10\n"
          ]
        }
      ]
    },
    {
      "cell_type": "code",
      "source": [
        "# Part B\n",
        "for num in num_list:\n",
        "  if num==1:\n",
        "    print(str(num)+'st')\n",
        "  elif num==2:\n",
        "    print(str(num)+'nd')\n",
        "  elif num==3:\n",
        "    print(str(num)+'rd')\n",
        "  else:\n",
        "    print(str(num)+'th')"
      ],
      "metadata": {
        "colab": {
          "base_uri": "https://localhost:8080/"
        },
        "id": "3t5kOGRBwPo-",
        "outputId": "444a80d1-6e70-4c98-b8f3-4f095e8b24a8"
      },
      "execution_count": null,
      "outputs": [
        {
          "output_type": "stream",
          "name": "stdout",
          "text": [
            "1st\n",
            "2nd\n",
            "3rd\n",
            "4th\n",
            "5th\n",
            "6th\n",
            "7th\n",
            "8th\n",
            "9th\n",
            "10th\n"
          ]
        }
      ]
    }
  ]
}