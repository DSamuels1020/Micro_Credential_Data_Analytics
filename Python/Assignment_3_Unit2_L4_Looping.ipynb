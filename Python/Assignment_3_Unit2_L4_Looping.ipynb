{
  "nbformat": 4,
  "nbformat_minor": 0,
  "metadata": {
    "colab": {
      "name": "Assignment 3  Unit2_L4_Looping.ipynb",
      "provenance": [],
      "collapsed_sections": []
    },
    "kernelspec": {
      "name": "python3",
      "display_name": "Python 3"
    },
    "language_info": {
      "name": "python"
    }
  },
  "cells": [
    {
      "cell_type": "markdown",
      "source": [
        "Name: Damion Samuels -----------\n",
        "Lesson 4 – Looping\n"
      ],
      "metadata": {
        "id": "lWcou9qxtF4K"
      }
    },
    {
      "cell_type": "markdown",
      "source": [
        "1.\tCreate a list that holds 5 data variables. "
      ],
      "metadata": {
        "id": "qQVJUyqhtEOS"
      }
    },
    {
      "cell_type": "code",
      "source": [
        "food = ['Chicken', 'Cake', 'Pasta', 'Rice', 'Potato']"
      ],
      "metadata": {
        "id": "OOen2IxLtOvl"
      },
      "execution_count": null,
      "outputs": []
    },
    {
      "cell_type": "markdown",
      "source": [
        "2.\tPrint out those variables by using a for loop."
      ],
      "metadata": {
        "id": "UwAdk_KHtSak"
      }
    },
    {
      "cell_type": "code",
      "source": [
        "for favorite in food:\n",
        "  print(favorite)"
      ],
      "metadata": {
        "id": "4DWVF5aDtRTM",
        "colab": {
          "base_uri": "https://localhost:8080/"
        },
        "outputId": "2fdf6957-a094-45fa-dead-0951d580cf85"
      },
      "execution_count": null,
      "outputs": [
        {
          "output_type": "stream",
          "name": "stdout",
          "text": [
            "Chicken\n",
            "Cake\n",
            "Pasta\n",
            "Rice\n",
            "Potato\n"
          ]
        }
      ]
    },
    {
      "cell_type": "markdown",
      "source": [
        "3.\tModify your for loop to add a message to your for loop."
      ],
      "metadata": {
        "id": "2MqB4J28tVyv"
      }
    },
    {
      "cell_type": "code",
      "source": [
        "for favorite in food:\n",
        "  print(favorite + \" is one of my favorite foods.\")"
      ],
      "metadata": {
        "id": "8OP2UyWftRDg",
        "colab": {
          "base_uri": "https://localhost:8080/"
        },
        "outputId": "d85af6ea-a81d-473d-c45e-30b09b806c7f"
      },
      "execution_count": null,
      "outputs": [
        {
          "output_type": "stream",
          "name": "stdout",
          "text": [
            "Chicken is one of my favorite foods.\n",
            "Cake is one of my favorite foods.\n",
            "Pasta is one of my favorite foods.\n",
            "Rice is one of my favorite foods.\n",
            "Potato is one of my favorite foods.\n"
          ]
        }
      ]
    },
    {
      "cell_type": "markdown",
      "source": [
        "4.\tUse a for loop to print even numbers from 1-20."
      ],
      "metadata": {
        "id": "tyVjDT0rtYD7"
      }
    },
    {
      "cell_type": "code",
      "source": [
        "for num in range(1,21):\n",
        "  if num%2==0:\n",
        "    print(num)"
      ],
      "metadata": {
        "id": "bzLTYCQPtQ0W",
        "colab": {
          "base_uri": "https://localhost:8080/"
        },
        "outputId": "f962dcca-1f64-473e-8b2f-44651fb9128a"
      },
      "execution_count": null,
      "outputs": [
        {
          "output_type": "stream",
          "name": "stdout",
          "text": [
            "2\n",
            "4\n",
            "6\n",
            "8\n",
            "10\n",
            "12\n",
            "14\n",
            "16\n",
            "18\n",
            "20\n"
          ]
        }
      ]
    },
    {
      "cell_type": "markdown",
      "source": [
        "5.\tSort your list in alphabetic order."
      ],
      "metadata": {
        "id": "y4gk2-lgtbr4"
      }
    },
    {
      "cell_type": "code",
      "source": [
        "food.sort()\n",
        "print(food)"
      ],
      "metadata": {
        "id": "kJHvQu0CtdMI",
        "colab": {
          "base_uri": "https://localhost:8080/"
        },
        "outputId": "93c8a2ef-2784-4c4a-e04e-3b58060a76db"
      },
      "execution_count": null,
      "outputs": [
        {
          "output_type": "stream",
          "name": "stdout",
          "text": [
            "['Cake', 'Chicken', 'Pasta', 'Potato', 'Rice']\n"
          ]
        }
      ]
    },
    {
      "cell_type": "markdown",
      "source": [
        "6.\tPrint out the first three elements of your list."
      ],
      "metadata": {
        "id": "FBC1uNUftgCn"
      }
    },
    {
      "cell_type": "code",
      "source": [
        "print(food[:3])"
      ],
      "metadata": {
        "id": "x3sGbmJttilE",
        "colab": {
          "base_uri": "https://localhost:8080/"
        },
        "outputId": "50f27c1b-2575-41c5-93de-abf0a791bb7b"
      },
      "execution_count": null,
      "outputs": [
        {
          "output_type": "stream",
          "name": "stdout",
          "text": [
            "['Cake', 'Chicken', 'Pasta']\n"
          ]
        }
      ]
    },
    {
      "cell_type": "markdown",
      "source": [
        "7.\tCreate a loop to print the last 2 elements of your list."
      ],
      "metadata": {
        "id": "3VzOxovYtjUZ"
      }
    },
    {
      "cell_type": "code",
      "source": [
        "for last_elements in food[-2:]:\n",
        "  print(last_elements)"
      ],
      "metadata": {
        "id": "s6UsOwSrtkXO",
        "colab": {
          "base_uri": "https://localhost:8080/"
        },
        "outputId": "bc05ac63-1483-44a7-ed13-e9db8eba7c0c"
      },
      "execution_count": null,
      "outputs": [
        {
          "output_type": "stream",
          "name": "stdout",
          "text": [
            "Potato\n",
            "Rice\n"
          ]
        }
      ]
    }
  ]
}