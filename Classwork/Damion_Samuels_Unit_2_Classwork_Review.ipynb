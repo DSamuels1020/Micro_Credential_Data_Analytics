{
  "nbformat": 4,
  "nbformat_minor": 0,
  "metadata": {
    "colab": {
      "name": "Damion Samuels Unit 2 Classwork Review.ipynb",
      "provenance": [],
      "collapsed_sections": []
    },
    "kernelspec": {
      "name": "python3",
      "display_name": "Python 3"
    }
  },
  "cells": [
    {
      "cell_type": "code",
      "metadata": {
        "colab": {
          "base_uri": "https://localhost:8080/"
        },
        "id": "xDMGl7LCKSeC",
        "outputId": "cb62e960-c752-4cab-84f5-f40ad9ce587c"
      },
      "source": [
        "#The len() function returns the length of a string:\n",
        " \n",
        "a = \"Hello, World!\"\n",
        "print(len(a))"
      ],
      "execution_count": 1,
      "outputs": [
        {
          "output_type": "stream",
          "name": "stdout",
          "text": [
            "13\n"
          ]
        }
      ]
    },
    {
      "cell_type": "code",
      "metadata": {
        "colab": {
          "base_uri": "https://localhost:8080/"
        },
        "id": "Pc3cEQ6HKdYe",
        "outputId": "e685c8ce-c3df-4167-f819-9893b02f75cb"
      },
      "source": [
        "#Check if \"free\" is present in the following text:\n",
        "\n",
        "txt = \"The best things in life are free!\"\n",
        "print(\"free\" in txt)\n",
        "print(\"hello\" in txt)"
      ],
      "execution_count": 2,
      "outputs": [
        {
          "output_type": "stream",
          "name": "stdout",
          "text": [
            "True\n",
            "False\n"
          ]
        }
      ]
    },
    {
      "cell_type": "code",
      "metadata": {
        "colab": {
          "base_uri": "https://localhost:8080/"
        },
        "id": "Y0PJgpN8IB2r",
        "outputId": "f8e50ef2-0c95-4a70-f9fd-64950cafc221"
      },
      "source": [
        "age = 36\n",
        "txt = \"My name is me, and I am {} years old\"                    #{} where age goes\n",
        "print(txt.format(age))                                          #the format() method formats the specified value(s) and insert them inside the string's placeholder.\n"
      ],
      "execution_count": 3,
      "outputs": [
        {
          "output_type": "stream",
          "name": "stdout",
          "text": [
            "My name is me, and I am 36 years old\n"
          ]
        }
      ]
    },
    {
      "cell_type": "code",
      "metadata": {
        "colab": {
          "base_uri": "https://localhost:8080/"
        },
        "id": "DwMnw7weIG_S",
        "outputId": "e28594b0-2901-4132-d9a3-1c00c8575490"
      },
      "source": [
        "#Demonstrate one String Concatenation example.\n",
        "#String Concantenation: combining strings together.\n",
        "str_a = 'String'\n",
        "str_b = 'Example'\n",
        "str_c = str_a + ' Concatenation ' + str_b\n",
        "print(str_c)"
      ],
      "execution_count": 4,
      "outputs": [
        {
          "output_type": "stream",
          "name": "stdout",
          "text": [
            "String Concatenation Example\n"
          ]
        }
      ]
    },
    {
      "cell_type": "code",
      "metadata": {
        "colab": {
          "base_uri": "https://localhost:8080/"
        },
        "id": "34uyI7VCFte8",
        "outputId": "87dfb26f-c3a6-45ef-fa43-37d768b2df65"
      },
      "source": [
        "thislist = [\"apple\", \"banana\", \"cherry\", \"apple\", \"cherry\"]       #Make a list.\n",
        "print(thislist)                                                   #Print the list.\n",
        "\n",
        "most_used_apps = ['spotify','youtube','facebook','slack']\n",
        "print(most_used_apps)\n",
        "most_used_apps.insert(2,'discord')                                #list.insert(index, object)\n",
        "print(most_used_apps)                                             #print list.\n",
        "a = 'maps'\n",
        "most_used_apps.extend([a])                                        #.extend([]) appends each element of the iterable (tuple, string, or list) to the end of the list\n",
        "print(most_used_apps)\n"
      ],
      "execution_count": 7,
      "outputs": [
        {
          "output_type": "stream",
          "name": "stdout",
          "text": [
            "['apple', 'banana', 'cherry', 'apple', 'cherry']\n",
            "['spotify', 'youtube', 'facebook', 'slack']\n",
            "['spotify', 'youtube', 'discord', 'facebook', 'slack']\n",
            "['spotify', 'youtube', 'discord', 'facebook', 'slack', 'maps']\n"
          ]
        }
      ]
    },
    {
      "cell_type": "code",
      "metadata": {
        "colab": {
          "base_uri": "https://localhost:8080/"
        },
        "id": "RDd1MaTIFzQJ",
        "outputId": "32eb53f6-4735-4ffb-c20a-bc9fcadafd9b"
      },
      "source": [
        "list1 = [\"apple\", \"banana\", \"cherry\"]\n",
        "list2 = [1, 5, 7, 9, 3]\n",
        "list3 = [True, False, False]\n",
        "print(type(list3))                            #print(type(object name))"
      ],
      "execution_count": 5,
      "outputs": [
        {
          "output_type": "stream",
          "name": "stdout",
          "text": [
            "<class 'list'>\n"
          ]
        }
      ]
    },
    {
      "cell_type": "code",
      "metadata": {
        "colab": {
          "base_uri": "https://localhost:8080/"
        },
        "id": "YIkplprTF53n",
        "outputId": "a50728d1-b079-4ad8-e7ed-74cc45b32b88"
      },
      "source": [
        "thislist = [\"apple\", 66, \"orange\",]       #str, int, str\n",
        "\n",
        "print(thislist)"
      ],
      "execution_count": 9,
      "outputs": [
        {
          "output_type": "stream",
          "name": "stdout",
          "text": [
            "['apple', 66, 'orange']\n"
          ]
        }
      ]
    },
    {
      "cell_type": "code",
      "metadata": {
        "colab": {
          "base_uri": "https://localhost:8080/"
        },
        "id": "Tha9pQ7EE9he",
        "outputId": "01cc8a9c-e9da-49c2-f005-4727fcf6022c"
      },
      "source": [
        "#To add new values to the end of the nested list, use append() method.\n",
        "L = ['a', ['bb', 'cc'],['f','g'], 'd']\n",
        "\n",
        "Lw = ['a''bb','5' 'cc']\n",
        "print(L)\n",
        "print(Lw)\n",
        "# Prints ['a', ['bb', 'cc', 'xx'], 'd']\n",
        "\n"
      ],
      "execution_count": 10,
      "outputs": [
        {
          "output_type": "stream",
          "name": "stdout",
          "text": [
            "['a', ['bb', 'cc'], ['f', 'g'], 'd']\n",
            "['abb', '5cc']\n"
          ]
        }
      ]
    },
    {
      "cell_type": "code",
      "metadata": {
        "colab": {
          "base_uri": "https://localhost:8080/"
        },
        "id": "I-CCIB5fFSZ9",
        "outputId": "78070d61-96c5-4d03-efc7-9dc88367263a"
      },
      "source": [
        "# insert an item at a specific position in a nested list, use insert() method.\n",
        "L = ['a', ['bb', 'cc'], 'd']\n",
        "L[1].insert(2,'xx')\n",
        "print(L)\n"
      ],
      "execution_count": 11,
      "outputs": [
        {
          "output_type": "stream",
          "name": "stdout",
          "text": [
            "['a', ['bb', 'cc', 'xx'], 'd']\n"
          ]
        }
      ]
    },
    {
      "cell_type": "code",
      "metadata": {
        "colab": {
          "base_uri": "https://localhost:8080/"
        },
        "id": "vB21-PC6FfCk",
        "outputId": "047c4cbc-9b6b-4144-bae5-5ccbdc96281d"
      },
      "source": [
        "#change the value of a specific item in a nested list by referring to its index number.\n",
        "L = ['a', ['bb', 'cc'], 'd']\n",
        "L[1][1] = 'k'\n",
        "print(L)"
      ],
      "execution_count": 12,
      "outputs": [
        {
          "output_type": "stream",
          "name": "stdout",
          "text": [
            "['a', ['bb', 'k'], 'd']\n"
          ]
        }
      ]
    },
    {
      "cell_type": "code",
      "metadata": {
        "id": "gEhlSNfPFj0Q",
        "colab": {
          "base_uri": "https://localhost:8080/"
        },
        "outputId": "2941a15a-d657-474f-bd3f-af5595d390d1"
      },
      "source": [
        "#You can merge one list into another by using extend() method.\n",
        "L = ['a', ['bb', 'cc'], 'd']\n",
        "L[1].extend(['g',2,3])\n",
        "print(L)"
      ],
      "execution_count": 13,
      "outputs": [
        {
          "output_type": "stream",
          "name": "stdout",
          "text": [
            "['a', ['bb', 'cc', 'g', 2, 3], 'd']\n"
          ]
        }
      ]
    },
    {
      "cell_type": "code",
      "metadata": {
        "id": "2DMAKzw3Fmd5",
        "outputId": "9f5bbbfc-a916-464e-84b1-95c76dd25bc7",
        "colab": {
          "base_uri": "https://localhost:8080/"
        }
      },
      "source": [
        "testt = [\"apple\", \"banana\", \"cherry\"]\n",
        "if \"apple\" in testt:\n",
        "  print(\"Yes, 'apple' is in the fruits list\")\n",
        "boroughs = ['brooklyn','manhattan','queens','bronx','staten island']\n",
        "if 'long island' in boroughs:\n",
        "  print(\"Yes, this is a NYC borough\")\n",
        "else:\n",
        "  print(\"No, this is not a NYC borough\")"
      ],
      "execution_count": 16,
      "outputs": [
        {
          "output_type": "stream",
          "name": "stdout",
          "text": [
            "Yes, 'apple' is in the fruits list\n",
            "No, this is not a NYC borough\n"
          ]
        }
      ]
    },
    {
      "cell_type": "code",
      "metadata": {
        "colab": {
          "base_uri": "https://localhost:8080/"
        },
        "id": "jFOPtNvZGKQO",
        "outputId": "3a27159d-d933-4210-a4d2-583ac65a0b1d"
      },
      "source": [
        "thislist = [\"apple\", \"banana\", \"cherry\"]\n",
        "\n",
        "#Change element 1 to \"blackcurrant\"\n",
        "thislist[1] = \"blackcurrant\"\n",
        "print(thislist)\n",
        "\n",
        "boroughs = ['queens','bronx','brooklyn']\n",
        "boroughs[2] = 'manhattan'\n",
        "print(boroughs)"
      ],
      "execution_count": 15,
      "outputs": [
        {
          "output_type": "stream",
          "name": "stdout",
          "text": [
            "['apple', 'blackcurrant', 'cherry']\n",
            "['queens', 'bronx', 'manhattan']\n"
          ]
        }
      ]
    },
    {
      "cell_type": "code",
      "metadata": {
        "colab": {
          "base_uri": "https://localhost:8080/"
        },
        "id": "4pm1DeVNGU5t",
        "outputId": "e1e08468-f18c-4c08-d8da-882b5c5ae339"
      },
      "source": [
        "thislist = [\"apple\", \"banana\", \"cherry\"]\n",
        "thislist[1:3] = [\"watermelon\"]\n",
        "\n",
        "#'banana' is interchanged with 'watermelon'; lists until element 2\n",
        "print(thislist)"
      ],
      "execution_count": 14,
      "outputs": [
        {
          "output_type": "stream",
          "name": "stdout",
          "text": [
            "['apple', 'watermelon']\n"
          ]
        }
      ]
    },
    {
      "cell_type": "code",
      "metadata": {
        "colab": {
          "base_uri": "https://localhost:8080/"
        },
        "id": "QQvfV1gzGfXS",
        "outputId": "7376f107-5f6f-4cfa-ca73-ee84af78b907"
      },
      "source": [
        "fruits=[55,'banana','cherry']           #.append = print \"orange\" at end of list\n",
        "fruits.append(\"orange\")\n",
        "print(fruits)\n",
        "fruits.extend(\"orange\")                 #.extend = print each letter in \"orange\" at the end of the list\n",
        "print(fruits)\n",
        "fruits.extend(['orange'])               #unless put in brackets as a new elements in the list []\n",
        "print(fruits)"
      ],
      "execution_count": 19,
      "outputs": [
        {
          "output_type": "stream",
          "name": "stdout",
          "text": [
            "[55, 'banana', 'cherry', 'orange']\n",
            "[55, 'banana', 'cherry', 'orange', 'o', 'r', 'a', 'n', 'g', 'e']\n",
            "[55, 'banana', 'cherry', 'orange', 'o', 'r', 'a', 'n', 'g', 'e', 'orange']\n"
          ]
        }
      ]
    },
    {
      "cell_type": "code",
      "metadata": {
        "colab": {
          "base_uri": "https://localhost:8080/"
        },
        "id": "YTo90fUqGnYq",
        "outputId": "850d660e-bb4c-43ec-8e41-3e0174c22959"
      },
      "source": [
        "#Add a list to a list:\n",
        "a = [\"apple\", \"banana\", \"cherry\"]\n",
        "b = [\"Ford\", \"BMW\", \"Volvo\"]\n",
        "\n",
        "#see 'a' list then the last element of the list is list 'b'\n",
        "a.append(b)\n",
        "print(a)"
      ],
      "execution_count": 17,
      "outputs": [
        {
          "output_type": "stream",
          "name": "stdout",
          "text": [
            "['apple', 'banana', 'cherry', ['Ford', 'BMW', 'Volvo']]\n"
          ]
        }
      ]
    },
    {
      "cell_type": "code",
      "metadata": {
        "colab": {
          "base_uri": "https://localhost:8080/"
        },
        "id": "IExtkgAFGvLQ",
        "outputId": "cbced92b-03c7-48bf-87a1-d904c732e8b9"
      },
      "source": [
        "#Loop Through the Index Numbers\n",
        "thislist = [\"apple\", \"banana\", \"cherry\"]\n",
        "for i in range(len(thislist)):\n",
        "  print(thislist[i])\n",
        "print('nnn')"
      ],
      "execution_count": 20,
      "outputs": [
        {
          "output_type": "stream",
          "name": "stdout",
          "text": [
            "apple\n",
            "banana\n",
            "cherry\n",
            "nnn\n"
          ]
        }
      ]
    },
    {
      "cell_type": "code",
      "metadata": {
        "colab": {
          "base_uri": "https://localhost:8080/"
        },
        "id": "LDhKcLnSG03B",
        "outputId": "1d3b26a9-ae9b-4216-9181-d8550212eefe"
      },
      "source": [
        "#Insert an item as the second position:\n",
        "thislist = [\"apple\", \"banana\", \"cherry\"]\n",
        "thislist.insert(1, \"orange\")\n",
        "print(thislist)"
      ],
      "execution_count": 21,
      "outputs": [
        {
          "output_type": "stream",
          "name": "stdout",
          "text": [
            "['apple', 'orange', 'banana', 'cherry']\n"
          ]
        }
      ]
    },
    {
      "cell_type": "code",
      "metadata": {
        "colab": {
          "base_uri": "https://localhost:8080/"
        },
        "id": "hNd1BJK2G7oE",
        "outputId": "b0704856-2b76-481e-85d3-65e50ff4623c"
      },
      "source": [
        "#extend elements from another list to the current list,\n",
        "thislist = [\"apple\", \"banana\", \"cherry\"]\n",
        "tropical = [\"mango\", \"pineapple\", \"papaya\"]\n",
        "thislist.extend(tropical)\n",
        "print(thislist)"
      ],
      "execution_count": 23,
      "outputs": [
        {
          "output_type": "stream",
          "name": "stdout",
          "text": [
            "['apple', 'banana', 'cherry', 'mango', 'pineapple', 'papaya']\n"
          ]
        }
      ]
    },
    {
      "cell_type": "code",
      "metadata": {
        "colab": {
          "base_uri": "https://localhost:8080/"
        },
        "id": "DUcTsqndHfxn",
        "outputId": "0b82a66e-a365-4263-e2a9-4f7e673d3993"
      },
      "source": [
        "fruit1 = [\"pineapple\", \"kwi\", \"cherry\",\"Lemon\",\"babana\"]\n",
        "print(fruit1)\n",
        "fruit2 = (\"melon\", \"orange\")\n",
        "fruit1.extend(fruit2)\n",
        "print(fruit1)\n",
        "print(len(fruit1))\n",
        "fruit1.remove(\"orange\")\n",
        "print(fruit1)\n",
        "print(len(fruit1))\n",
        "fruit1.sort()\n",
        "print(\"sorted List\",fruit1)"
      ],
      "execution_count": 24,
      "outputs": [
        {
          "output_type": "stream",
          "name": "stdout",
          "text": [
            "['pineapple', 'kwi', 'cherry', 'Lemon', 'babana']\n",
            "['pineapple', 'kwi', 'cherry', 'Lemon', 'babana', 'melon', 'orange']\n",
            "7\n",
            "['pineapple', 'kwi', 'cherry', 'Lemon', 'babana', 'melon']\n",
            "6\n",
            "sorted List ['Lemon', 'babana', 'cherry', 'kwi', 'melon', 'pineapple']\n"
          ]
        }
      ]
    },
    {
      "cell_type": "code",
      "metadata": {
        "colab": {
          "base_uri": "https://localhost:8080/",
          "height": 122
        },
        "id": "aQFTkF32HuLm",
        "outputId": "20538ca4-46df-430e-86f9-0cd30020d6fa"
      },
      "source": [
        "a = [\"car\", [\"bmw\", \"kia\", \"ford\"], \"Truck\", [\"pick up\", \"monster truck\", [\"ford\", \"gmc\"]], \"motorcycle\", [\"Honda\"]]    #List within a list = nested list\n",
        "print(a[0])\n",
        "print(a[1])\n",
        "print(a[2])\n",
        "print(a[3])\n",
        "print(a[1][1])\n",
        "\n",
        "#to get ford which is in 3rd list (second list) and 0 element\n",
        "a[3][2][0]"
      ],
      "execution_count": 25,
      "outputs": [
        {
          "output_type": "stream",
          "name": "stdout",
          "text": [
            "car\n",
            "['bmw', 'kia', 'ford']\n",
            "Truck\n",
            "['pick up', 'monster truck', ['ford', 'gmc']]\n",
            "kia\n"
          ]
        },
        {
          "output_type": "execute_result",
          "data": {
            "application/vnd.google.colaboratory.intrinsic+json": {
              "type": "string"
            },
            "text/plain": [
              "'ford'"
            ]
          },
          "metadata": {},
          "execution_count": 25
        }
      ]
    },
    {
      "cell_type": "code",
      "metadata": {
        "colab": {
          "base_uri": "https://localhost:8080/"
        },
        "id": "B-jXfjB9IUYM",
        "outputId": "012ffb24-b28b-4f4d-a565-6ba455d18c9b"
      },
      "source": [
        "fruit1 = [\"pineapple\", \"kwi\", \"cherry\",\"lemon\",\"banana\"]\n",
        "print(fruit1)                   #List all elements\n",
        "fruit2 = [\"melon\", \"orange\"]    #add new fruits\n",
        "fruit1.extend(fruit2)\n",
        "print(fruit1)\n",
        "print(len(fruit1))              #number of fruits\n",
        "fruit1.remove(\"orange\")         #remove 'orange'\n",
        "print(fruit1)\n",
        "print(len(fruit1))\n",
        "fruit1.sort()\n",
        "print(fruit1)"
      ],
      "execution_count": 26,
      "outputs": [
        {
          "output_type": "stream",
          "name": "stdout",
          "text": [
            "['pineapple', 'kwi', 'cherry', 'lemon', 'banana']\n",
            "['pineapple', 'kwi', 'cherry', 'lemon', 'banana', 'melon', 'orange']\n",
            "7\n",
            "['pineapple', 'kwi', 'cherry', 'lemon', 'banana', 'melon']\n",
            "6\n",
            "['banana', 'cherry', 'kwi', 'lemon', 'melon', 'pineapple']\n"
          ]
        }
      ]
    },
    {
      "cell_type": "code",
      "metadata": {
        "colab": {
          "base_uri": "https://localhost:8080/"
        },
        "id": "sqg2Pk-CK9Et",
        "outputId": "e75cc01d-ba4b-4479-e769-41b3fc60edf6"
      },
      "source": [
        "#Sort the list alphabetically:\n",
        "\n",
        "cars = ['Ford', 'BMW', 'Volvo']\n",
        "cars.sort()\n",
        "print(cars)\n",
        "\n",
        "websites = ['Youtube','Facebook','Amazon']\n",
        "websites.sort()\n",
        "print(websites)"
      ],
      "execution_count": 28,
      "outputs": [
        {
          "output_type": "stream",
          "name": "stdout",
          "text": [
            "['BMW', 'Ford', 'Volvo']\n",
            "['Amazon', 'Facebook', 'Youtube']\n"
          ]
        }
      ]
    },
    {
      "cell_type": "code",
      "metadata": {
        "colab": {
          "base_uri": "https://localhost:8080/"
        },
        "id": "8zOeBBZAgwry",
        "outputId": "bacb3ee8-7caf-4f74-c4e5-05a67be8c070"
      },
      "source": [
        "list1 = ['physics', 'chemistry', 1997, 2000]\n",
        "\n",
        "#Show all the elements in the list up until index 3, but not including index 3\n",
        "list1[:3]\n",
        "print(list1[:3])\n"
      ],
      "execution_count": 29,
      "outputs": [
        {
          "output_type": "stream",
          "name": "stdout",
          "text": [
            "['physics', 'chemistry', 1997]\n"
          ]
        }
      ]
    },
    {
      "cell_type": "code",
      "metadata": {
        "colab": {
          "base_uri": "https://localhost:8080/"
        },
        "id": "lIE0Gru1vycT",
        "outputId": "73412518-692f-454c-c875-f055e18cd379"
      },
      "source": [
        "#if (1%2) !0 <--if 1 mod 2 is =/= 0 then print; remainder is 1 =/=0 so false, so it will print\n",
        "for number in range(1, 10):       \n",
        "    if(number % 2 != 0):           \n",
        "        print(number)  \n"
      ],
      "execution_count": 30,
      "outputs": [
        {
          "output_type": "stream",
          "name": "stdout",
          "text": [
            "1\n",
            "3\n",
            "5\n",
            "7\n",
            "9\n"
          ]
        }
      ]
    },
    {
      "cell_type": "markdown",
      "metadata": {
        "id": "vKsgQ1uY5yS2"
      },
      "source": [
        "Lecture 5"
      ]
    },
    {
      "cell_type": "code",
      "metadata": {
        "colab": {
          "base_uri": "https://localhost:8080/"
        },
        "id": "_syyFgwWyPBS",
        "outputId": "6d1b48ca-27de-4458-8552-8138962a822f"
      },
      "source": [
        "bike='honda'      # = assignment operator; we assigned bike to be equal to honda. without this, line 2 is false\n",
        "bike=='honda'     # == equality operator"
      ],
      "execution_count": 31,
      "outputs": [
        {
          "output_type": "execute_result",
          "data": {
            "text/plain": [
              "True"
            ]
          },
          "metadata": {},
          "execution_count": 31
        }
      ]
    },
    {
      "cell_type": "code",
      "metadata": {
        "colab": {
          "base_uri": "https://localhost:8080/"
        },
        "id": "-tRm9Hsd0dEw",
        "outputId": "c4bbc209-16bd-4378-c861-254ff44411b0"
      },
      "source": [
        "patientexam='ecg'\n",
        "if(patientexam !='ecg'):\n",
        " print('incorrect exam')\n",
        "else:\n",
        "  print('correct exam')\n",
        " "
      ],
      "execution_count": 32,
      "outputs": [
        {
          "output_type": "stream",
          "name": "stdout",
          "text": [
            "correct exam\n"
          ]
        }
      ]
    },
    {
      "cell_type": "code",
      "metadata": {
        "colab": {
          "base_uri": "https://localhost:8080/"
        },
        "id": "lkFvosnv16jO",
        "outputId": "33f6dbae-3c22-470c-deca-c814f43a66a0"
      },
      "source": [
        "a = 33\n",
        "b = 33\n",
        "\n",
        "#elif = else if; used to check multiple expressions\n",
        "if b > a:\n",
        "  print(\"b is greater than a\")\n",
        "elif a == b:\n",
        "  print(\"a and b are equal\")"
      ],
      "execution_count": 33,
      "outputs": [
        {
          "output_type": "stream",
          "name": "stdout",
          "text": [
            "a and b are equal\n"
          ]
        }
      ]
    },
    {
      "cell_type": "code",
      "metadata": {
        "colab": {
          "base_uri": "https://localhost:8080/"
        },
        "id": "E_BTLPvq2J3C",
        "outputId": "d4ac9d08-6f7e-46cf-eec0-54e61788a884"
      },
      "source": [
        "a = 200\n",
        "b = 33\n",
        "if b > a:\n",
        "  print(\"b is greater than a\")\n",
        "elif a == b:\n",
        "  print(\"a and b are equal\")\n",
        "else:\n",
        "  print(\"a is greater than b\")"
      ],
      "execution_count": 38,
      "outputs": [
        {
          "output_type": "stream",
          "name": "stdout",
          "text": [
            "a is greater than b\n"
          ]
        }
      ]
    },
    {
      "cell_type": "code",
      "metadata": {
        "colab": {
          "base_uri": "https://localhost:8080/"
        },
        "id": "dZOqg08x2U_m",
        "outputId": "7ca4a7fe-9a65-4999-99ca-8920629a9626"
      },
      "source": [
        "#readmit days after discharge from hospital = 29 you will get error why?\n",
        "#becasue we cannot have spaces in variables\n",
        "readmit_days_after_discharge_from_hospital = 29\n",
        "if readmit_days_after_discharge_from_hospital < 30:\n",
        "  print ('patient readmited within 30 days')\n",
        "else:\n",
        "  print ('patient readmited after 30 days')"
      ],
      "execution_count": 40,
      "outputs": [
        {
          "output_type": "stream",
          "name": "stdout",
          "text": [
            "patient readmited within 30 days\n"
          ]
        }
      ]
    },
    {
      "cell_type": "code",
      "metadata": {
        "colab": {
          "base_uri": "https://localhost:8080/"
        },
        "id": "hXKSh8Zo5RM0",
        "outputId": "a0d46f32-e9a5-434b-bbd2-728c48fc37e1"
      },
      "source": [
        "#multiple conditions and\n",
        "a = 200\n",
        "b = 33\n",
        "c = 100\n",
        "if a > b or c > a:\n",
        "  print(\"one conditions are True\")"
      ],
      "execution_count": 41,
      "outputs": [
        {
          "output_type": "stream",
          "name": "stdout",
          "text": [
            "one conditions are True\n"
          ]
        }
      ]
    },
    {
      "cell_type": "code",
      "metadata": {
        "colab": {
          "base_uri": "https://localhost:8080/"
        },
        "id": "ublmoT2K5cyD",
        "outputId": "9621cd85-f04f-4cd4-f1c0-3d86ee23dd25"
      },
      "source": [
        "#multiple conditions or\n",
        "a = 200\n",
        "b = 33\n",
        "c = 500\n",
        "if a > b or a > c:\n",
        "  print(\"At least one of the conditions is True\")\n"
      ],
      "execution_count": 42,
      "outputs": [
        {
          "output_type": "stream",
          "name": "stdout",
          "text": [
            "At least one of the conditions is True\n"
          ]
        }
      ]
    },
    {
      "cell_type": "code",
      "metadata": {
        "colab": {
          "base_uri": "https://localhost:8080/"
        },
        "id": "-2OHlcPt5sA_",
        "outputId": "503dab24-94a2-45b2-f53f-c86704280599"
      },
      "source": [
        "# Nested If \n",
        "x = 41\n",
        "\n",
        "if x > 10:\n",
        "  print(\"Above ten,\")\n",
        "  if x > 20:\n",
        "    print(\"and also above 20!\")\n",
        "else:\n",
        "    print(\"but not above 20.\")"
      ],
      "execution_count": 43,
      "outputs": [
        {
          "output_type": "stream",
          "name": "stdout",
          "text": [
            "Above ten,\n",
            "and also above 20!\n"
          ]
        }
      ]
    },
    {
      "cell_type": "code",
      "metadata": {
        "colab": {
          "base_uri": "https://localhost:8080/"
        },
        "id": "dngXbNs_5a3H",
        "outputId": "4e6859a8-ab14-476a-f487-273204b2dbba"
      },
      "source": [
        "#Check If List Item Exists\n",
        "#To determine if a specified item is present in a list use the in keyword:\n",
        "#Check if \"apple\" is present in the list:\n",
        "\n",
        "thislist = [\"apple\", \"banana\", \"cherry\"]\n",
        "if \"apple\" in thislist:\n",
        "  print(\"Yes, 'apple' is in the fruits list\")"
      ],
      "execution_count": 44,
      "outputs": [
        {
          "output_type": "stream",
          "name": "stdout",
          "text": [
            "Yes, 'apple' is in the fruits list\n"
          ]
        }
      ]
    },
    {
      "cell_type": "code",
      "metadata": {
        "colab": {
          "base_uri": "https://localhost:8080/"
        },
        "id": "0npwHCS98CNC",
        "outputId": "c03501a2-d285-463a-94e0-f8040e92c3ed"
      },
      "source": [
        "patient_exam_record=['echo','ct','scan']\n",
        "'cvt' in patient_exam_record\n",
        "print(False)\n",
        "'ct' in patient_exam_record"
      ],
      "execution_count": 51,
      "outputs": [
        {
          "output_type": "stream",
          "name": "stdout",
          "text": [
            "False\n"
          ]
        },
        {
          "output_type": "execute_result",
          "data": {
            "text/plain": [
              "True"
            ]
          },
          "metadata": {},
          "execution_count": 51
        }
      ]
    },
    {
      "cell_type": "code",
      "metadata": {
        "colab": {
          "base_uri": "https://localhost:8080/"
        },
        "id": "gP08SCEi81zW",
        "outputId": "6c7a0d7e-9ce2-4e8e-a767-a1d67ffadc45"
      },
      "source": [
        "patient_exam_record_alergieas=['latex','penecilin','asperin']\n",
        "new_alergie='asma'\n",
        "if new_alergie in patient_exam_record_alergieas:\n",
        "  print('alergie in patient_exam_record')\n",
        "else:\n",
        "  print('patient doesnt have '+ new_alergie)\n",
        "  print(new_alergie +' is not in patient alergie list ')"
      ],
      "execution_count": 52,
      "outputs": [
        {
          "output_type": "stream",
          "name": "stdout",
          "text": [
            "patient doesnt have asma\n",
            "asma is not in patient alergie list \n"
          ]
        }
      ]
    },
    {
      "cell_type": "code",
      "metadata": {
        "colab": {
          "base_uri": "https://localhost:8080/"
        },
        "id": "WI4a51r0CPhh",
        "outputId": "a8022466-95ce-4d94-ac2d-fc58991f92fa"
      },
      "source": [
        "fruits = [\"apple\", \"banana\", \"cherry\", \"kiwi\", \"mango\"]\n",
        "#new list with no additional elements\n",
        "newlist = []\n",
        "\n",
        "for x in fruits:\n",
        "  if \"a\" in x:\n",
        "    newlist.append(x)\n",
        "\n",
        "#print elements that have an \"a\" in it\n",
        "print(newlist)"
      ],
      "execution_count": 53,
      "outputs": [
        {
          "output_type": "stream",
          "name": "stdout",
          "text": [
            "['apple', 'banana', 'mango']\n"
          ]
        }
      ]
    },
    {
      "cell_type": "markdown",
      "metadata": {
        "id": "02Aq_ceyEnaw"
      },
      "source": [
        "# **Lect 6 Dictionaries**\n",
        "\n",
        "Python Collections (Arrays)\n",
        "There are four collection data types in the Python programming language:\n",
        "\n",
        "List is a collection which is ordered and changeable. Allows duplicate members.\n",
        "Tuple is a collection which is ordered and unchangeable. Allows duplicate members.\n",
        "Set is a collection which is unordered and unindexed. No duplicate members.\n",
        "Dictionary is a collection which is unordered and changeable. No duplicate members.\n",
        "When choosing a collection type, it is useful to understand the properties of that type. Choosing the right type for a particular data set could mean retention of meaning, and, it could mean an increase in efficiency or security."
      ]
    },
    {
      "cell_type": "code",
      "metadata": {
        "colab": {
          "base_uri": "https://localhost:8080/"
        },
        "id": "m7RsE-f6E3AZ",
        "outputId": "3b7175ed-6011-4e96-83ab-c0bd0ae546c4"
      },
      "source": [
        "#Dictionary\n",
        "#Dictionaries are used to store data values in key:value pairs.\n",
        "#A dictionary is a collection which is unordered, changeable and does not allow duplicates.\n",
        "#Dictionaries are written with curly brackets, and have keys and values:\n",
        "#Create and print a dictionary:\n",
        "\n",
        "patient_1 =\t{\n",
        "  \"first_name\": \"john\",\n",
        "  \"Last_name\": \"baker\"\n",
        "}\n",
        "print(patient_1['first_name'])\n",
        "print(patient_1['Last_name'])\n",
        "print(patient_1['first_name'],patient_1['Last_name']+' how are you')\n",
        "print(\" \")\n",
        "patient_2 = {\n",
        "    \"first_name\": \"John\",\n",
        "    'last_name':'Snow'\n",
        "}\n",
        "print('Welcome '+patient_2['first_name'],patient_2['last_name'])"
      ],
      "execution_count": 57,
      "outputs": [
        {
          "output_type": "stream",
          "name": "stdout",
          "text": [
            "john\n",
            "baker\n",
            "john baker how are you\n",
            " \n",
            "Welcome John Snow\n"
          ]
        }
      ]
    },
    {
      "cell_type": "code",
      "metadata": {
        "colab": {
          "base_uri": "https://localhost:8080/"
        },
        "id": "BgP8HbSfkmzw",
        "outputId": "165f73b3-15a2-417e-9683-66f32621665b"
      },
      "source": [
        "patient_1 =\t{\n",
        "  \"first_name\": \"john\",\n",
        "  \"last_name\": \"baker\",\n",
        "  'mrn':'098987'\n",
        "}\n",
        "patient_name=patient_1['first_name']\n",
        "print(\"hello there, \"+ patient_name)\n",
        "print(patient_1)\n",
        "patient_1['mcrn']='999222'\n",
        "patient_1['new key']='bbds'\n",
        "patient_1  "
      ],
      "execution_count": 56,
      "outputs": [
        {
          "output_type": "stream",
          "name": "stdout",
          "text": [
            "hello there, john\n",
            "{'first_name': 'john', 'last_name': 'baker', 'mrn': '098987'}\n"
          ]
        },
        {
          "output_type": "execute_result",
          "data": {
            "text/plain": [
              "{'first_name': 'john',\n",
              " 'last_name': 'baker',\n",
              " 'mcrn': '999222',\n",
              " 'mrn': '098987',\n",
              " 'new key': 'bbds'}"
            ]
          },
          "metadata": {},
          "execution_count": 56
        }
      ]
    },
    {
      "cell_type": "code",
      "metadata": {
        "colab": {
          "base_uri": "https://localhost:8080/"
        },
        "id": "T_3eAig1oUq6",
        "outputId": "f78da7cb-07c6-46a8-c2e8-5f8b46325e3b"
      },
      "source": [
        "thisdict =\t{\n",
        "  \"brand\": \"Ford\",\n",
        "  \"model\": \"Mustang\",\n",
        "  \"year\": 1964}\n",
        "print(thisdict)\n",
        "thisdict ['owner']='mark'\n",
        "print(thisdict)\n",
        "\n",
        "#to modify the value\n",
        "thisdict ['brand'] ='mercedes benz'\n",
        "print(thisdict)\n",
        "\n",
        "#to remove the value\n",
        "del thisdict ['brand']\n",
        "print(thisdict)"
      ],
      "execution_count": 58,
      "outputs": [
        {
          "output_type": "stream",
          "name": "stdout",
          "text": [
            "{'brand': 'Ford', 'model': 'Mustang', 'year': 1964}\n",
            "{'brand': 'Ford', 'model': 'Mustang', 'year': 1964, 'owner': 'mark'}\n",
            "{'brand': 'mercedes benz', 'model': 'Mustang', 'year': 1964, 'owner': 'mark'}\n",
            "{'model': 'Mustang', 'year': 1964, 'owner': 'mark'}\n"
          ]
        }
      ]
    },
    {
      "cell_type": "code",
      "metadata": {
        "colab": {
          "base_uri": "https://localhost:8080/"
        },
        "id": "y1IG0r7tduBH",
        "outputId": "6f38f39e-1854-4217-a2eb-7c4e1753377c"
      },
      "source": [
        "thisdict =\t{\n",
        "  \"brand\": \"Ford\",\n",
        "  \"model\": \"Mustang\",\n",
        "  \"year\": 1964\n",
        "}\n",
        "print(thisdict)\n",
        "for key,value in thisdict.items():\n",
        "  print(key,value)\n",
        "  \n",
        "# to print keys only\n",
        "  print(key)\n",
        " \n"
      ],
      "execution_count": 59,
      "outputs": [
        {
          "output_type": "stream",
          "name": "stdout",
          "text": [
            "{'brand': 'Ford', 'model': 'Mustang', 'year': 1964}\n",
            "brand Ford\n",
            "brand\n",
            "model Mustang\n",
            "model\n",
            "year 1964\n",
            "year\n"
          ]
        }
      ]
    },
    {
      "cell_type": "code",
      "metadata": {
        "colab": {
          "base_uri": "https://localhost:8080/"
        },
        "id": "WDDCj--ndTRT",
        "outputId": "451ca78b-733d-477b-d72f-edbe2fd85ca9"
      },
      "source": [
        "#Loop Through a Dictionary\n",
        "#You can loop through a dictionary by using a for loop.\n",
        "\n",
        "thisdict =\t{\n",
        "  \"name\": \"Ford\",\n",
        "  \"Last_Name\": \"baker\",\n",
        "  \"mrn\": \"023432\",\n",
        "  \"db\": \"1981/04/09\"\n",
        "}\n",
        "for key,value in thisdict.items():\n",
        "  print(\"\\nkey:\" + key)\n",
        "  print(\"\\nvalue:\" + value)\n"
      ],
      "execution_count": 60,
      "outputs": [
        {
          "output_type": "stream",
          "name": "stdout",
          "text": [
            "\n",
            "key:name\n",
            "\n",
            "value:Ford\n",
            "\n",
            "key:Last_Name\n",
            "\n",
            "value:baker\n",
            "\n",
            "key:mrn\n",
            "\n",
            "value:023432\n",
            "\n",
            "key:db\n",
            "\n",
            "value:1981/04/09\n"
          ]
        }
      ]
    },
    {
      "cell_type": "code",
      "metadata": {
        "colab": {
          "base_uri": "https://localhost:8080/"
        },
        "id": "53tfwfnIvOZ8",
        "outputId": "857289d8-85bc-4be8-ec19-51a3db96da8f"
      },
      "source": [
        "friend_ages =\t{\n",
        "  \"nick\": \"30\",\n",
        "  \"john\": \"25\",\n",
        "  \"sali\": \"43\",\n",
        "  \"dan\": \"33\"}\n",
        "fav_friend= [\"nick\",\"hop\"] \n",
        "for name in friend_ages.keys():\n",
        "  print(name.title())\n",
        "\n",
        "  if name in fav_friend:\n",
        " \n",
        "     print('Hi '+name.title() +\", I see you are \" + friend_ages[name])"
      ],
      "execution_count": null,
      "outputs": [
        {
          "output_type": "stream",
          "name": "stdout",
          "text": [
            "Nick\n",
            "Hi Nick, I see you are 30\n",
            "John\n",
            "Sali\n",
            "Dan\n"
          ]
        }
      ]
    },
    {
      "cell_type": "markdown",
      "metadata": {
        "id": "dYe59uh14qtt"
      },
      "source": [
        "'While' loop\n",
        "* Python has two primitive loop commands: 'while' loops, 'for' loops\n",
        "* With the while loop we can execute a set of statements as long as a condition is true."
      ]
    },
    {
      "cell_type": "code",
      "metadata": {
        "colab": {
          "base_uri": "https://localhost:8080/"
        },
        "id": "c4zHni5X4uJ1",
        "outputId": "7f062524-e21f-4767-f64d-3c759b4f9f50"
      },
      "source": [
        "#while i is less than 6, print i+1, otherwise, print that i is no longer less than 6\n",
        "i = 1\n",
        "while i < 6:\n",
        "  print(i)\n",
        "  i += 1\n",
        "else:\n",
        "  print(\"i is no longer less than 6\")"
      ],
      "execution_count": 61,
      "outputs": [
        {
          "output_type": "stream",
          "name": "stdout",
          "text": [
            "1\n",
            "2\n",
            "3\n",
            "4\n",
            "5\n",
            "i is no longer less than 6\n"
          ]
        }
      ]
    },
    {
      "cell_type": "markdown",
      "metadata": {
        "id": "ffpXfKBK5RYO"
      },
      "source": [
        "User Input\n",
        "Python allows for user input.\n",
        "That means we are able to ask the user for input.\n",
        "The method is a bit different in Python 3.6 than Python 2.7.\n",
        "Python 3.6 uses the input() method."
      ]
    },
    {
      "cell_type": "code",
      "metadata": {
        "colab": {
          "base_uri": "https://localhost:8080/"
        },
        "id": "aSfcR1Dp5QC5",
        "outputId": "6f95c640-9ae3-4bc7-ee14-ab709a927874"
      },
      "source": [
        "username = input(\"Enter username:\")\n",
        "print(\"Username is: \" + username)"
      ],
      "execution_count": 62,
      "outputs": [
        {
          "output_type": "stream",
          "name": "stdout",
          "text": [
            "Enter username:Jake\n",
            "Username is: Jake\n"
          ]
        }
      ]
    },
    {
      "cell_type": "code",
      "metadata": {
        "colab": {
          "base_uri": "https://localhost:8080/"
        },
        "id": "UdSOaMPu6FfQ",
        "outputId": "31ebf4b6-76e9-44f5-9a8b-bec0ec077485"
      },
      "source": [
        "prompt=\"input a message. i will repeat it until you type 'quit'\"\n",
        "message=\"\"\n",
        "\n",
        "while message !='quit':                     #prompt is said if not equal to 'quit'\n",
        "  message = input(prompt)\n",
        "  print(message)"
      ],
      "execution_count": 63,
      "outputs": [
        {
          "output_type": "stream",
          "name": "stdout",
          "text": [
            "input a message. i will repeat it until you type 'quit'Thank you\n",
            "Thank you\n",
            "input a message. i will repeat it until you type 'quit'quit\n",
            "quit\n"
          ]
        }
      ]
    },
    {
      "cell_type": "code",
      "source": [
        "login_message = \"Password incorrect. Please type the correct password\"\n",
        "password = 'dsjkdfhhkc'                 #doesn't matter what the string is\n",
        "while password !='ilovepython':\n",
        "  password=input(login_message)\n",
        "  print(password)"
      ],
      "metadata": {
        "colab": {
          "base_uri": "https://localhost:8080/"
        },
        "id": "MC--s-TVpQO_",
        "outputId": "fadb0a3f-2b37-4d7d-d200-88537677d758"
      },
      "execution_count": 64,
      "outputs": [
        {
          "output_type": "stream",
          "name": "stdout",
          "text": [
            "Password incorrect. Please type the correct passwordfghfghfg\n",
            "fghfghfg\n",
            "Password incorrect. Please type the correct passwordjhgkjjhkjhkl\n",
            "jhgkjjhkjhkl\n",
            "Password incorrect. Please type the correct passwordgdfgfd\n",
            "gdfgfd\n",
            "Password incorrect. Please type the correct passworddsjkdfhhkc\n",
            "dsjkdfhhkc\n",
            "Password incorrect. Please type the correct passwordilovepython\n",
            "ilovepython\n"
          ]
        }
      ]
    },
    {
      "cell_type": "markdown",
      "metadata": {
        "id": "LipDh3v3AaUh"
      },
      "source": [
        "# Creating a Function\n",
        "In Python a function is defined using the def keyword:\n",
        "\n"
      ]
    },
    {
      "cell_type": "code",
      "metadata": {
        "id": "qKjbpzmaAfQk"
      },
      "source": [
        "#Example creating a function is the first step\n",
        "#Function isn't called so nothing is printed\n",
        "def my_function():\n",
        "  print(\"Hello from a function\")"
      ],
      "execution_count": null,
      "outputs": []
    },
    {
      "cell_type": "code",
      "metadata": {
        "colab": {
          "base_uri": "https://localhost:8080/"
        },
        "id": "f4Vil56NAwdq",
        "outputId": "8e71553f-4e38-41b1-a950-12b20c0eec3d"
      },
      "source": [
        "#Calling a Function\n",
        "#To call a function, use the function name followed by parenthesis:\n",
        "\n",
        "#Example\n",
        "def my_function():\n",
        "  print(\"Hello from a function\")\n",
        "\n",
        "#Do not indent\n",
        "#Called but not defined because nothing is in parenthesis\n",
        "my_function()"
      ],
      "execution_count": null,
      "outputs": [
        {
          "output_type": "stream",
          "name": "stdout",
          "text": [
            "Hello from a function\n"
          ]
        }
      ]
    },
    {
      "cell_type": "code",
      "source": [
        "#Example\n",
        "def my_function(age):\n",
        "  print(\"Hello from a function \"+str(age)+\" years old\")\n",
        "\n",
        "age = 33\n",
        "my_function(age)"
      ],
      "metadata": {
        "colab": {
          "base_uri": "https://localhost:8080/"
        },
        "id": "2QTm1KFQkRXg",
        "outputId": "a3b05de4-27d1-43d8-b82a-c6ad50fded69"
      },
      "execution_count": null,
      "outputs": [
        {
          "output_type": "stream",
          "name": "stdout",
          "text": [
            "Hello from a function 33 years old\n"
          ]
        }
      ]
    },
    {
      "cell_type": "code",
      "metadata": {
        "colab": {
          "base_uri": "https://localhost:8080/"
        },
        "id": "RJpBBVj65M6H",
        "outputId": "df99a3ae-80eb-4b40-e305-dcf213442813"
      },
      "source": [
        "def my_function(age):\n",
        "  \"\"\"This function add up name\"\"\"\n",
        "  text = \"My name is James, and I am {} years old\"\n",
        "  print(text.format(age))\n",
        "\n",
        "\n",
        "age = 36\n",
        "my_function(age)"
      ],
      "execution_count": 67,
      "outputs": [
        {
          "output_type": "stream",
          "name": "stdout",
          "text": [
            "My name is James, and I am 36 years old\n"
          ]
        }
      ]
    },
    {
      "cell_type": "code",
      "source": [
        "def my_function(age):\n",
        "  \"\"\"This function add up namea\"\"\"\n",
        "  text = \"My name is john, and I am {} years old\"\n",
        "  print(text.format(age))\n",
        "  print(\"My name is john, and I am\" + str(age) +\"years old\")\n",
        "age=33\n",
        "my_function(age)"
      ],
      "metadata": {
        "id": "IrpVJvFZoDdh"
      },
      "execution_count": null,
      "outputs": []
    },
    {
      "cell_type": "code",
      "metadata": {
        "colab": {
          "base_uri": "https://localhost:8080/"
        },
        "id": "hp3bZP4zBAwe",
        "outputId": "352baeff-320c-4679-996d-6b06eb939ce6"
      },
      "source": [
        "#Information can be passed into functions as arguments.\n",
        "def my_function(fname):\n",
        "#Things in parentheses are 'arguments'.\n",
        "  \"This function add up name\"\n",
        "  print(fname + \" Refsnes\")\n",
        "\n",
        "my_function(\"Emil\")\n",
        "my_function(\"Tobias\")\n",
        "my_function(\"Linus\")"
      ],
      "execution_count": null,
      "outputs": [
        {
          "output_type": "stream",
          "name": "stdout",
          "text": [
            "Emil Refsnes\n",
            "Tobias Refsnes\n",
            "Linus Refsnes\n"
          ]
        }
      ]
    },
    {
      "cell_type": "code",
      "source": [
        "#If the number of keyword arguments is unknown, add a double ** before the parameter name:\n",
        "\n",
        "def my_function(**kid):\n",
        "  print(\"His last name is \" + kid[\"lname\"])\n",
        "\n",
        "my_function(fname = \"James\", lname = \"Bond\")"
      ],
      "metadata": {
        "id": "6wwbhPp3n8xh",
        "colab": {
          "base_uri": "https://localhost:8080/"
        },
        "outputId": "4168aec0-bb31-459b-f2f2-0c11696a4ff1"
      },
      "execution_count": 65,
      "outputs": [
        {
          "output_type": "stream",
          "name": "stdout",
          "text": [
            "His last name is Bond\n"
          ]
        }
      ]
    },
    {
      "cell_type": "code",
      "metadata": {
        "colab": {
          "base_uri": "https://localhost:8080/"
        },
        "id": "m9K0lvyqFFPB",
        "outputId": "55f0d818-61ac-4b04-d7c2-838b8cb5877b"
      },
      "source": [
        "#Lec 7 mini project odd,even\n",
        "#First way using .format()\n",
        "\n",
        "#num is an integer, and input \"Enter a number:\"\n",
        "num = int(input(\"Enter a number: \"))\n",
        "#if-else statement\n",
        "#.format value of num which is an integer to be mixed as a string\n",
        "#num will be a string value now\n",
        "if (num % 2) == 0:\n",
        "   print(num,\"is Even\".format(num))\n",
        "else:\n",
        "   print(num ,\"is Odd\".format(num))\n"
      ],
      "execution_count": 70,
      "outputs": [
        {
          "output_type": "stream",
          "name": "stdout",
          "text": [
            "Enter a number: 7\n",
            "7 is Odd\n"
          ]
        }
      ]
    },
    {
      "cell_type": "code",
      "source": [
        "#Lec 7 mini project odd,even\n",
        "#Second way using str()\n",
        "\n",
        "#num is an integer, and input \"Enter a number:\"\n",
        "num = int(input(\"Enter a number: \"))\n",
        "#if-else statement\n",
        "if (num % 2) == 0:\n",
        "   print(str(num),\"is Even\")\n",
        "else:\n",
        "   print(str(num) ,\"is Odd\")\n"
      ],
      "metadata": {
        "colab": {
          "base_uri": "https://localhost:8080/"
        },
        "id": "edRQq4dClTw-",
        "outputId": "75fa7503-1f71-4b1c-f9c7-b8c670a66396"
      },
      "execution_count": 71,
      "outputs": [
        {
          "output_type": "stream",
          "name": "stdout",
          "text": [
            "Enter a number: 2\n",
            "2 is Even\n"
          ]
        }
      ]
    },
    {
      "cell_type": "code",
      "source": [
        "def my_func(x):\n",
        "  return 5*x \n",
        "  #return function used to send the function's result back to the caller.\n",
        "print(my_func(3))\n",
        "print(my_func(5))"
      ],
      "metadata": {
        "colab": {
          "base_uri": "https://localhost:8080/"
        },
        "id": "_DzxNEL7ly2K",
        "outputId": "23c03605-1de9-40bd-d9e0-13c6c83cf5a8"
      },
      "execution_count": null,
      "outputs": [
        {
          "output_type": "stream",
          "name": "stdout",
          "text": [
            "15\n",
            "25\n"
          ]
        }
      ]
    },
    {
      "cell_type": "code",
      "source": [
        "#myfunc() can be any name, but can't be empty\n",
        "\n",
        "def my_func(food):\n",
        "  for x in food:\n",
        "    print(x)\n",
        "\n",
        "fruits = ['apple','bananas','cherry']\n",
        "my_func(fruits)"
      ],
      "metadata": {
        "colab": {
          "base_uri": "https://localhost:8080/"
        },
        "id": "HmRcJyIFl8vT",
        "outputId": "a755ad12-16e7-4148-bd96-a578ecf01e1f"
      },
      "execution_count": null,
      "outputs": [
        {
          "output_type": "stream",
          "name": "stdout",
          "text": [
            "apple\n",
            "bananas\n",
            "cherry\n"
          ]
        }
      ]
    },
    {
      "cell_type": "code",
      "source": [
        "#my_func() cannot be empty. We will get an error.\n",
        "#Error states that it takes 0 positional arguments but 1 was given.\n",
        "def my_func():\n",
        "  for x in food:\n",
        "    print(x)\n",
        "\n",
        "fruits = ['apple','bananas','cherry']\n",
        "my_func(fruits)"
      ],
      "metadata": {
        "id": "kWzDy-fNnKdA"
      },
      "execution_count": null,
      "outputs": []
    },
    {
      "cell_type": "code",
      "metadata": {
        "colab": {
          "base_uri": "https://localhost:8080/"
        },
        "id": "UBO7C6z2JAnC",
        "outputId": "ba9ec929-3658-4def-f545-4e29b9fac1fd"
      },
      "source": [
        "#tell if a number dividable by 4\n",
        "def multiple(m, n):\n",
        "\treturn True if m % n == 0 else False\n",
        "m = int(input(\"Enter a number: \"))\n",
        "print(multiple(m, 4))\n"
      ],
      "execution_count": null,
      "outputs": [
        {
          "output_type": "stream",
          "name": "stdout",
          "text": [
            "Enter a number: 8\n",
            "True\n"
          ]
        }
      ]
    },
    {
      "cell_type": "code",
      "source": [
        "#country has a default value set\n",
        "def my_function(country = \"Norway\"):\n",
        "  print(\"I am from \" + country)\n",
        "\n",
        "my_function(\"Sweden\")\n",
        "my_function(\"India\")\n",
        "my_function()\n",
        "my_function(\"Brazil\")\n"
      ],
      "metadata": {
        "colab": {
          "base_uri": "https://localhost:8080/"
        },
        "id": "rwxohNFXn1Ls",
        "outputId": "ce153c67-96fd-4fcc-be91-ffe7f36e3392"
      },
      "execution_count": null,
      "outputs": [
        {
          "output_type": "stream",
          "name": "stdout",
          "text": [
            "I am from Sweden\n",
            "I am from India\n",
            "I am from Norway\n",
            "I am from Brazil\n"
          ]
        }
      ]
    },
    {
      "cell_type": "code",
      "source": [
        "def my_function(state , country = \"United States\"):\n",
        "  print(\"This state , \" + state + \" , is in the \" + country)\n",
        "\n",
        "my_function(\"New York\")\n",
        "my_function(\"New Jersey\")\n",
        "my_function(\"Florida\")"
      ],
      "metadata": {
        "id": "7n-u9mKQfmhR"
      },
      "execution_count": null,
      "outputs": []
    },
    {
      "cell_type": "code",
      "source": [
        " while True:\n",
        "   #Enter [input(\" \")] an integer [int()]\n",
        "        entry=int(input('Enter a number or 0 to quit:'))\n",
        "        if entry % 2 == 0:\n",
        "            print (format (entry), 'is an even number.')\n",
        "        else:\n",
        "            print (format (entry),'is an odd number.')\n",
        "\n",
        "        if entry == 0:\n",
        "            print ('All done!')\n",
        "            break"
      ],
      "metadata": {
        "colab": {
          "base_uri": "https://localhost:8080/"
        },
        "id": "summqxYqfpI4",
        "outputId": "a74a9413-18af-4515-c2a5-655dd4b5ccc0"
      },
      "execution_count": null,
      "outputs": [
        {
          "output_type": "stream",
          "name": "stdout",
          "text": [
            "Enter a number or 0 to quit:0\n",
            "0 is an even number.\n",
            "All done!\n"
          ]
        }
      ]
    },
    {
      "cell_type": "code",
      "source": [
        "#Mini project bonus\n",
        "\n",
        "#Part 1\n",
        "#Create a function to input a number\n",
        "def main():\n",
        "    number = get_number() \n",
        "#two if statements for even\n",
        "    if(number  % 2 == 0):\n",
        "        print(\"Even number\")\n",
        "        if(number % 4 == 0):\n",
        "           print(\"Even number and multiple of 4\")\n",
        "\n",
        "#else statement for odd\n",
        "    else:\n",
        "        print(\"Odd number\")\n",
        "#Print 2 numbers\n",
        "    number2,number3= get_number() , get_number()\n",
        "\n",
        "#Part two\n",
        "    if (number2 % number3 == 0):\n",
        "#{} formats output, integer in string\n",
        "        print(\"{} evenly divides {}\".format(number2,number3))\n",
        "    else:\n",
        "        print(\"{} not evenly divides by {}\".format(number2,number3))\n",
        "def get_number():\n",
        "       return int(input(\"Enter a number \"))\n",
        "main()"
      ],
      "metadata": {
        "colab": {
          "base_uri": "https://localhost:8080/"
        },
        "id": "zfD6nLfFfq7x",
        "outputId": "c400d76b-4159-48b9-fef8-3ed924336137"
      },
      "execution_count": null,
      "outputs": [
        {
          "output_type": "stream",
          "name": "stdout",
          "text": [
            "Enter a number 5\n",
            "Odd number\n",
            "Enter a number 2\n",
            "Enter a number 1\n",
            "2 evenly divides 1\n"
          ]
        }
      ]
    }
  ]
}